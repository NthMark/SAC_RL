{
 "cells": [
  {
   "cell_type": "code",
   "execution_count": 1,
   "metadata": {},
   "outputs": [],
   "source": [
    "import torch\n",
    "from torch import nn\n",
    "import numpy as np\n",
    "output =torch.rand(100)[..., None]*10"
   ]
  },
  {
   "cell_type": "code",
   "execution_count": 18,
   "metadata": {},
   "outputs": [],
   "source": [
    "linear=nn.Linear(1, 3)\n",
    "outputs=linear(output)"
   ]
  },
  {
   "cell_type": "code",
   "execution_count": 21,
   "metadata": {},
   "outputs": [
    {
     "data": {
      "text/plain": [
       "tensor([], size=(100, 0), grad_fn=<SliceBackward0>)"
      ]
     },
     "execution_count": 21,
     "metadata": {},
     "output_type": "execute_result"
    }
   ],
   "source": [
    "outputs[...,3:]"
   ]
  },
  {
   "cell_type": "code",
   "execution_count": 2,
   "metadata": {},
   "outputs": [],
   "source": [
    "from transforms3d.euler import quat2euler\n",
    "orientation_list = [0.999999999998296,0, 0, -1.8460861516489738e-06]\n",
    "roll,pitch, yaw = quat2euler(orientation_list)"
   ]
  },
  {
   "cell_type": "code",
   "execution_count": 3,
   "metadata": {},
   "outputs": [
    {
     "data": {
      "text/plain": [
       "(0.0, 0.0, -3.6921723033000453e-06)"
      ]
     },
     "execution_count": 3,
     "metadata": {},
     "output_type": "execute_result"
    }
   ],
   "source": [
    "roll,pitch, yaw\n"
   ]
  },
  {
   "cell_type": "code",
   "execution_count": null,
   "metadata": {},
   "outputs": [
    {
     "data": {
      "text/plain": [
       "Normal(loc: torch.Size([3]), scale: torch.Size([3]))"
      ]
     },
     "execution_count": 23,
     "metadata": {},
     "output_type": "execute_result"
    }
   ],
   "source": [
    "normal_dist"
   ]
  },
  {
   "cell_type": "code",
   "execution_count": null,
   "metadata": {},
   "outputs": [
    {
     "name": "stdout",
     "output_type": "stream",
     "text": [
      "tensor(-1.0439)\n"
     ]
    }
   ],
   "source": [
    "distribution = torch.distributions.Normal(0, 1)\n",
    "\n",
    "# Calculate the log probability of sample value 0.5\n",
    "sample_value = torch.tensor(0.5)\n",
    "log_prob = distribution.log_prob(sample_value)\n",
    "\n",
    "print(log_prob) "
   ]
  },
  {
   "cell_type": "code",
   "execution_count": 9,
   "metadata": {},
   "outputs": [],
   "source": [
    "import math"
   ]
  },
  {
   "cell_type": "code",
   "execution_count": 8,
   "metadata": {},
   "outputs": [],
   "source": [
    "goal_x_list = [5.1081,4.0456,2.7147,1.0915,0.37583,-0.18133,-0.14148,-1.4583,-3.6939,-2.8976,-1.5097,-0.73719,-0.35437,3.36,4.295,5.8217,6.5594,6.6926,2.7248]\n",
    "goal_y_list = [-9.0511,-9.9685,-9.7536,-9.4915,-4.9754,1.3284,3.7654,3.7568,3.7427,6.2144,6.7212,6.9084,8.079,7.4159,7.4433,7.459,7.686,5.0049,4.9378]"
   ]
  },
  {
   "cell_type": "code",
   "execution_count": null,
   "metadata": {},
   "outputs": [
    {
     "data": {
      "image/png": "[encoded data removed]",
      "text/plain": [
       "<Figure size 640x480 with 1 Axes>"
      ]
     },
     "metadata": {},
     "output_type": "display_data"
    }
   ],
   "source": [
    "import numpy as np\n",
    "import matplotlib\n",
    "import matplotlib.pyplot as plt\n",
    "xaxis = np.array(range(1, 1 + 1))\n",
    "data_outcome_history=[[1,2,3]]\n",
    "outcome_histories = [[0],[0],[0]]\n",
    "for idx in range(len(data_outcome_history)):\n",
    "    outcome_histories[0].append(outcome_histories[0][-1]+data_outcome_history[idx][0])\n",
    "    outcome_histories[1].append(outcome_histories[1][-1]+data_outcome_history[idx][1])\n",
    "    outcome_histories[2].append(outcome_histories[2][-1]+data_outcome_history[idx][2])\n",
    "outcome_histories=[1,2,3]\n",
    "if len(data_outcome_history) > 0:\n",
    "    for outcome_history in np.array(outcome_histories):\n",
    "        plt.plot(xaxis, outcome_history)\n"
   ]
  },
  {
   "cell_type": "code",
   "execution_count": 2,
   "metadata": {},
   "outputs": [],
   "source": [
    "from geometry_msgs.msg import Point\n",
    "a=[]\n",
    "pos=Point()\n",
    "pos.x=0.5\n",
    "pos.y=1.5\n",
    "a.append(pos)"
   ]
  },
  {
   "cell_type": "code",
   "execution_count": 1,
   "metadata": {},
   "outputs": [],
   "source": [
    "import numpy as np\n",
    "def euler_from_quaternion(quat):\n",
    "    \"\"\"\n",
    "    Converts quaternion (w in last place) to euler roll, pitch, yaw\n",
    "    quat = [x, y, z, w]\n",
    "    \"\"\"\n",
    "    x = quat[0]\n",
    "    y = quat[1]\n",
    "    z = quat[2]\n",
    "    w = quat[3]\n",
    "\n",
    "    sinr_cosp = 2 * (w*x + y*z)\n",
    "    cosr_cosp = 1 - 2*(x*x + y*y)\n",
    "    roll = np.arctan2(sinr_cosp, cosr_cosp)\n",
    "\n",
    "    sinp = 2 * (w*y - z*x)\n",
    "    if sinp < -1:\n",
    "        sinp = -1\n",
    "    if sinp > 1:\n",
    "        sinp = 1\n",
    "    pitch = np.arcsin(sinp)\n",
    "\n",
    "    siny_cosp = 2 * (w*z + x*y)\n",
    "    cosy_cosp = 1 - 2 * (y*y + z*z)\n",
    "    yaw = np.arctan2(siny_cosp, cosy_cosp)\n",
    "\n",
    "    return roll, pitch, yaw\n"
   ]
  },
  {
   "cell_type": "code",
   "execution_count": 5,
   "metadata": {},
   "outputs": [
    {
     "data": {
      "text/plain": [
       "(0.0, 0.0, 1.5503909961083584)"
      ]
     },
     "execution_count": 5,
     "metadata": {},
     "output_type": "execute_result"
    }
   ],
   "source": [
    "quat=[0,0,0.7,0.7]\n",
    "euler_from_quaternion(quat)"
   ]
  },
  {
   "cell_type": "code",
   "execution_count": null,
   "metadata": {},
   "outputs": [],
   "source": []
  }
 ],
 "metadata": {
  "kernelspec": {
   "display_name": "Python 3",
   "language": "python",
   "name": "python3"
  },
  "language_info": {
   "codemirror_mode": {
    "name": "ipython",
    "version": 3
   },
   "file_extension": ".py",
   "mimetype": "text/x-python",
   "name": "python",
   "nbconvert_exporter": "python",
   "pygments_lexer": "ipython3",
   "version": "3.10.12"
  }
 },
 "nbformat": 4,
 "nbformat_minor": 2
}

{
 "cells": [
  {
   "cell_type": "code",
   "execution_count": 1,
   "metadata": {},
   "outputs": [],
   "source": [
    "import torch\n",
    "from torch import nn\n",
    "import numpy as np\n",
    "output =torch.rand(100)[..., None]*10"
   ]
  },
  {
   "cell_type": "code",
   "execution_count": 18,
   "metadata": {},
   "outputs": [],
   "source": [
    "linear=nn.Linear(1, 3)\n",
    "outputs=linear(output)"
   ]
  },
  {
   "cell_type": "code",
   "execution_count": 21,
   "metadata": {},
   "outputs": [
    {
     "data": {
      "text/plain": [
       "tensor([], size=(100, 0), grad_fn=<SliceBackward0>)"
      ]
     },
     "execution_count": 21,
     "metadata": {},
     "output_type": "execute_result"
    }
   ],
   "source": [
    "outputs[...,3:]"
   ]
  },
  {
   "cell_type": "code",
   "execution_count": null,
   "metadata": {},
   "outputs": [],
   "source": []
  },
  {
   "cell_type": "code",
   "execution_count": 22,
   "metadata": {},
   "outputs": [],
   "source": [
    "zeros = torch.zeros(3)\n",
    "ones = torch.ones(3)\n",
    "normal_dist = torch.distributions.Normal(zeros, ones)\n"
   ]
  },
  {
   "cell_type": "code",
   "execution_count": null,
   "metadata": {},
   "outputs": [
    {
     "data": {
      "text/plain": [
       "Normal(loc: torch.Size([3]), scale: torch.Size([3]))"
      ]
     },
     "execution_count": 23,
     "metadata": {},
     "output_type": "execute_result"
    }
   ],
   "source": [
    "normal_dist"
   ]
  },
  {
   "cell_type": "code",
   "execution_count": null,
   "metadata": {},
   "outputs": [
    {
     "name": "stdout",
     "output_type": "stream",
     "text": [
      "tensor(-1.0439)\n"
     ]
    }
   ],
   "source": [
    "distribution = torch.distributions.Normal(0, 1)\n",
    "\n",
    "# Calculate the log probability of sample value 0.5\n",
    "sample_value = torch.tensor(0.5)\n",
    "log_prob = distribution.log_prob(sample_value)\n",
    "\n",
    "print(log_prob) "
   ]
  },
  {
   "cell_type": "code",
   "execution_count": 9,
   "metadata": {},
   "outputs": [],
   "source": [
    "import math"
   ]
  },
  {
   "cell_type": "code",
   "execution_count": 8,
   "metadata": {},
   "outputs": [],
   "source": [
    "goal_x_list = [5.1081,4.0456,2.7147,1.0915,0.37583,-0.18133,-0.14148,-1.4583,-3.6939,-2.8976,-1.5097,-0.73719,-0.35437,3.36,4.295,5.8217,6.5594,6.6926,2.7248]\n",
    "goal_y_list = [-9.0511,-9.9685,-9.7536,-9.4915,-4.9754,1.3284,3.7654,3.7568,3.7427,6.2144,6.7212,6.9084,8.079,7.4159,7.4433,7.459,7.686,5.0049,4.9378]"
   ]
  },
  {
   "cell_type": "code",
   "execution_count": 19,
   "metadata": {},
   "outputs": [
    {
     "name": "stdout",
     "output_type": "stream",
     "text": [
      "Distance: 17\n",
      "Distance: 18\n",
      "Distance: 17\n",
      "Distance: 16\n",
      "Distance: 12\n",
      "Distance: 6\n",
      "Distance: 3\n",
      "Distance: 3\n",
      "Distance: 4\n",
      "Distance: 1\n",
      "Distance: 0\n",
      "Distance: 1\n",
      "Distance: 2\n",
      "Distance: 5\n",
      "Distance: 6\n",
      "Distance: 7\n",
      "Distance: 8\n",
      "Distance: 8\n",
      "Distance: 5\n"
     ]
    }
   ],
   "source": [
    "idx=10\n",
    "for x,y in zip(goal_x_list,goal_y_list):\n",
    "    print(f'Distance: {round(math.hypot(goal_x_list[idx]-x,goal_y_list[idx]-y))}')"
   ]
  }
 ],
 "metadata": {
  "kernelspec": {
   "display_name": "Python 3",
   "language": "python",
   "name": "python3"
  },
  "language_info": {
   "codemirror_mode": {
    "name": "ipython",
    "version": 3
   },
   "file_extension": ".py",
   "mimetype": "text/x-python",
   "name": "python",
   "nbconvert_exporter": "python",
   "pygments_lexer": "ipython3",
   "version": "3.10.12"
  }
 },
 "nbformat": 4,
 "nbformat_minor": 2
}
